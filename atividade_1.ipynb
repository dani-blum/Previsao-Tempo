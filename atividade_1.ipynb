{
  "nbformat": 4,
  "nbformat_minor": 0,
  "metadata": {
    "colab": {
      "provenance": []
    },
    "kernelspec": {
      "name": "python3",
      "display_name": "Python 3"
    },
    "language_info": {
      "name": "python"
    }
  },
  "cells": [
    {
      "cell_type": "code",
      "source": [],
      "metadata": {
        "id": "pggLFHuBy0kf"
      },
      "execution_count": null,
      "outputs": []
    },
    {
      "cell_type": "code",
      "source": [
        "import pandas as pd\n",
        "\n",
        "# Criando o DataFrame com os dados\n",
        "dados = {\n",
        "    \"Data\": [\"15/01/2025\"] * 5,\n",
        "    \"Cidade\": [\"São Paulo\", \"Rio de Janeiro\", \"Curitiba\", \"Porto Alegre\", \"Salvador\"],\n",
        "    \"Temperatura Máxima (°C)\": [30.5, 35.0, 24.0, 28.0, 31.0],\n",
        "    \"Temperatura Mínima (°C)\": [22.0, 25.0, 18.0, 20.0, 24.5],\n",
        "    \"Precipitação (mm)\": [12.0, None, 8.0, 15.0, None],\n",
        "    \"Umidade Relativa (%)\": [78, 70, None, 82, 80]\n",
        "}\n",
        "\n",
        "# Criando o DataFrame\n",
        "df = pd.DataFrame(dados)\n",
        "\n",
        "# Substituir valores ausentes na coluna Precipitação pela média\n",
        "df[\"Precipitação (mm)\"] = df[\"Precipitação (mm)\"].fillna(df[\"Precipitação (mm)\"].mean())\n",
        "\n",
        "# Substituir valores ausentes na coluna Umidade Relativa pela mediana\n",
        "df[\"Umidade Relativa (%)\"] = df[\"Umidade Relativa (%)\"].fillna(df[\"Umidade Relativa (%)\"].median())\n",
        "\n",
        "# Adicionar a coluna Amplitude Térmica\n",
        "df[\"Amplitude Térmica\"] = df[\"Temperatura Máxima (°C)\"] - df[\"Temperatura Mínima (°C)\"]\n",
        "\n",
        "# Criar um novo DataFrame com cidades onde a Temperatura Máxima é acima de 30°C\n",
        "df_cidades_quentes = df[df[\"Temperatura Máxima (°C)\"] > 30]\n",
        "\n",
        "# Reordenar as colunas\n",
        "df = df[[\"Data\", \"Cidade\", \"Temperatura Máxima (°C)\", \"Temperatura Mínima (°C)\", \"Amplitude Térmica\", \"Precipitação (mm)\", \"Umidade Relativa (%)\"]]\n",
        "\n",
        "df_cidades_quentes = df_cidades_quentes[[\"Data\", \"Cidade\", \"Temperatura Máxima (°C)\", \"Temperatura Mínima (°C)\", \"Amplitude Térmica\", \"Precipitação (mm)\", \"Umidade Relativa (%)\"]]\n",
        "\n",
        "# Exibir os DataFrames\n",
        "print(\"DataFrame Processado:\")\n",
        "print(df)\n",
        "\n",
        "print(\"\\nDataFrame Cidades com Temperatura Máxima acima de 30°C:\")\n",
        "print(df_cidades_quentes)"
      ],
      "metadata": {
        "colab": {
          "base_uri": "https://localhost:8080/"
        },
        "id": "jHjTqF4CxvIB",
        "outputId": "00a0242d-fd6e-449d-f3ac-cd1ca90e155e"
      },
      "execution_count": 6,
      "outputs": [
        {
          "output_type": "stream",
          "name": "stdout",
          "text": [
            "DataFrame Processado:\n",
            "         Data          Cidade  Temperatura Máxima (°C)  \\\n",
            "0  15/01/2025       São Paulo                     30.5   \n",
            "1  15/01/2025  Rio de Janeiro                     35.0   \n",
            "2  15/01/2025        Curitiba                     24.0   \n",
            "3  15/01/2025    Porto Alegre                     28.0   \n",
            "4  15/01/2025        Salvador                     31.0   \n",
            "\n",
            "   Temperatura Mínima (°C)  Amplitude Térmica  Precipitação (mm)  \\\n",
            "0                     22.0                8.5          12.000000   \n",
            "1                     25.0               10.0          11.666667   \n",
            "2                     18.0                6.0           8.000000   \n",
            "3                     20.0                8.0          15.000000   \n",
            "4                     24.5                6.5          11.666667   \n",
            "\n",
            "   Umidade Relativa (%)  \n",
            "0                  78.0  \n",
            "1                  70.0  \n",
            "2                  79.0  \n",
            "3                  82.0  \n",
            "4                  80.0  \n",
            "\n",
            "DataFrame Cidades com Temperatura Máxima acima de 30°C:\n",
            "         Data          Cidade  Temperatura Máxima (°C)  \\\n",
            "0  15/01/2025       São Paulo                     30.5   \n",
            "1  15/01/2025  Rio de Janeiro                     35.0   \n",
            "4  15/01/2025        Salvador                     31.0   \n",
            "\n",
            "   Temperatura Mínima (°C)  Amplitude Térmica  Precipitação (mm)  \\\n",
            "0                     22.0                8.5          12.000000   \n",
            "1                     25.0               10.0          11.666667   \n",
            "4                     24.5                6.5          11.666667   \n",
            "\n",
            "   Umidade Relativa (%)  \n",
            "0                  78.0  \n",
            "1                  70.0  \n",
            "4                  80.0  \n"
          ]
        }
      ]
    }
  ]
}